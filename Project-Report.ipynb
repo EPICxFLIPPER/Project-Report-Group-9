{
 "cells": [
  {
   "cell_type": "markdown",
   "id": "ba1b3e49-d555-42a5-88bd-7ab75ceb440a",
   "metadata": {},
   "source": [
    "This is the Group 9 Project Report ipynb File!"
   ]
  },
  {
   "cell_type": "code",
   "execution_count": 1,
   "id": "51fd451b-d57e-4f9d-875b-753a02166874",
   "metadata": {},
   "outputs": [
    {
     "name": "stderr",
     "output_type": "stream",
     "text": [
      "── \u001b[1mAttaching packages\u001b[22m ─────────────────────────────────────── tidyverse 1.3.1 ──\n",
      "\n",
      "\u001b[32m✔\u001b[39m \u001b[34mggplot2\u001b[39m 3.3.6     \u001b[32m✔\u001b[39m \u001b[34mpurrr  \u001b[39m 0.3.4\n",
      "\u001b[32m✔\u001b[39m \u001b[34mtibble \u001b[39m 3.1.7     \u001b[32m✔\u001b[39m \u001b[34mdplyr  \u001b[39m 1.0.9\n",
      "\u001b[32m✔\u001b[39m \u001b[34mtidyr  \u001b[39m 1.2.0     \u001b[32m✔\u001b[39m \u001b[34mstringr\u001b[39m 1.4.0\n",
      "\u001b[32m✔\u001b[39m \u001b[34mreadr  \u001b[39m 2.1.2     \u001b[32m✔\u001b[39m \u001b[34mforcats\u001b[39m 0.5.1\n",
      "\n",
      "── \u001b[1mConflicts\u001b[22m ────────────────────────────────────────── tidyverse_conflicts() ──\n",
      "\u001b[31m✖\u001b[39m \u001b[34mdplyr\u001b[39m::\u001b[32mfilter()\u001b[39m masks \u001b[34mstats\u001b[39m::filter()\n",
      "\u001b[31m✖\u001b[39m \u001b[34mdplyr\u001b[39m::\u001b[32mlag()\u001b[39m    masks \u001b[34mstats\u001b[39m::lag()\n",
      "\n",
      "\n",
      "Attaching package: ‘testthat’\n",
      "\n",
      "\n",
      "The following object is masked from ‘package:dplyr’:\n",
      "\n",
      "    matches\n",
      "\n",
      "\n",
      "The following object is masked from ‘package:purrr’:\n",
      "\n",
      "    is_null\n",
      "\n",
      "\n",
      "The following objects are masked from ‘package:readr’:\n",
      "\n",
      "    edition_get, local_edition\n",
      "\n",
      "\n",
      "The following object is masked from ‘package:tidyr’:\n",
      "\n",
      "    matches\n",
      "\n",
      "\n",
      "── \u001b[1mAttaching packages\u001b[22m ────────────────────────────────────── tidymodels 1.0.0 ──\n",
      "\n",
      "\u001b[32m✔\u001b[39m \u001b[34mbroom       \u001b[39m 1.0.0     \u001b[32m✔\u001b[39m \u001b[34mrsample     \u001b[39m 1.0.0\n",
      "\u001b[32m✔\u001b[39m \u001b[34mdials       \u001b[39m 1.0.0     \u001b[32m✔\u001b[39m \u001b[34mtune        \u001b[39m 1.0.0\n",
      "\u001b[32m✔\u001b[39m \u001b[34minfer       \u001b[39m 1.0.2     \u001b[32m✔\u001b[39m \u001b[34mworkflows   \u001b[39m 1.0.0\n",
      "\u001b[32m✔\u001b[39m \u001b[34mmodeldata   \u001b[39m 1.0.0     \u001b[32m✔\u001b[39m \u001b[34mworkflowsets\u001b[39m 1.0.0\n",
      "\u001b[32m✔\u001b[39m \u001b[34mparsnip     \u001b[39m 1.0.0     \u001b[32m✔\u001b[39m \u001b[34myardstick   \u001b[39m 1.0.0\n",
      "\u001b[32m✔\u001b[39m \u001b[34mrecipes     \u001b[39m 1.0.1     \n",
      "\n",
      "── \u001b[1mConflicts\u001b[22m ───────────────────────────────────────── tidymodels_conflicts() ──\n",
      "\u001b[31m✖\u001b[39m \u001b[34mscales\u001b[39m::\u001b[32mdiscard()\u001b[39m   masks \u001b[34mpurrr\u001b[39m::discard()\n",
      "\u001b[31m✖\u001b[39m \u001b[34mdplyr\u001b[39m::\u001b[32mfilter()\u001b[39m     masks \u001b[34mstats\u001b[39m::filter()\n",
      "\u001b[31m✖\u001b[39m \u001b[34mrecipes\u001b[39m::\u001b[32mfixed()\u001b[39m    masks \u001b[34mstringr\u001b[39m::fixed()\n",
      "\u001b[31m✖\u001b[39m \u001b[34mtestthat\u001b[39m::\u001b[32mis_null()\u001b[39m masks \u001b[34mpurrr\u001b[39m::is_null()\n",
      "\u001b[31m✖\u001b[39m \u001b[34mdplyr\u001b[39m::\u001b[32mlag()\u001b[39m        masks \u001b[34mstats\u001b[39m::lag()\n",
      "\u001b[31m✖\u001b[39m \u001b[34mrsample\u001b[39m::\u001b[32mmatches()\u001b[39m  masks \u001b[34mtestthat\u001b[39m::matches(), \u001b[34mdplyr\u001b[39m::matches(), \u001b[34mtidyr\u001b[39m::matches()\n",
      "\u001b[31m✖\u001b[39m \u001b[34myardstick\u001b[39m::\u001b[32mspec()\u001b[39m   masks \u001b[34mreadr\u001b[39m::spec()\n",
      "\u001b[31m✖\u001b[39m \u001b[34mrecipes\u001b[39m::\u001b[32mstep()\u001b[39m     masks \u001b[34mstats\u001b[39m::step()\n",
      "\u001b[34m•\u001b[39m Use \u001b[32mtidymodels_prefer()\u001b[39m to resolve common conflicts.\n",
      "\n",
      "Registered S3 method overwritten by 'GGally':\n",
      "  method from   \n",
      "  +.gg   ggplot2\n",
      "\n"
     ]
    }
   ],
   "source": [
    "library(tidyverse)\n",
    "library(testthat)\n",
    "library(digest)\n",
    "library(repr)\n",
    "library(tidymodels)\n",
    "library(GGally)\n",
    "library(ISLR)"
   ]
  },
  {
   "cell_type": "code",
   "execution_count": 2,
   "id": "eb7d4a43-4d56-470e-b914-86275db185ab",
   "metadata": {},
   "outputs": [
    {
     "name": "stderr",
     "output_type": "stream",
     "text": [
      "\u001b[1mRows: \u001b[22m\u001b[34m39644\u001b[39m \u001b[1mColumns: \u001b[22m\u001b[34m61\u001b[39m\n",
      "\u001b[36m──\u001b[39m \u001b[1mColumn specification\u001b[22m \u001b[36m────────────────────────────────────────────────────────\u001b[39m\n",
      "\u001b[1mDelimiter:\u001b[22m \",\"\n",
      "\u001b[31mchr\u001b[39m  (1): url\n",
      "\u001b[32mdbl\u001b[39m (60): timedelta, n_tokens_title, n_tokens_content, n_unique_tokens, n_no...\n",
      "\n",
      "\u001b[36mℹ\u001b[39m Use `spec()` to retrieve the full column specification for this data.\n",
      "\u001b[36mℹ\u001b[39m Specify the column types or set `show_col_types = FALSE` to quiet this message.\n"
     ]
    },
    {
     "data": {
      "text/html": [
       "<table class=\"dataframe\">\n",
       "<caption>A tibble: 6 × 61</caption>\n",
       "<thead>\n",
       "\t<tr><th scope=col>url</th><th scope=col>timedelta</th><th scope=col>n_tokens_title</th><th scope=col>n_tokens_content</th><th scope=col>n_unique_tokens</th><th scope=col>n_non_stop_words</th><th scope=col>n_non_stop_unique_tokens</th><th scope=col>num_hrefs</th><th scope=col>num_self_hrefs</th><th scope=col>num_imgs</th><th scope=col>⋯</th><th scope=col>min_positive_polarity</th><th scope=col>max_positive_polarity</th><th scope=col>avg_negative_polarity</th><th scope=col>min_negative_polarity</th><th scope=col>max_negative_polarity</th><th scope=col>title_subjectivity</th><th scope=col>title_sentiment_polarity</th><th scope=col>abs_title_subjectivity</th><th scope=col>abs_title_sentiment_polarity</th><th scope=col>shares</th></tr>\n",
       "\t<tr><th scope=col>&lt;chr&gt;</th><th scope=col>&lt;dbl&gt;</th><th scope=col>&lt;dbl&gt;</th><th scope=col>&lt;dbl&gt;</th><th scope=col>&lt;dbl&gt;</th><th scope=col>&lt;dbl&gt;</th><th scope=col>&lt;dbl&gt;</th><th scope=col>&lt;dbl&gt;</th><th scope=col>&lt;dbl&gt;</th><th scope=col>&lt;dbl&gt;</th><th scope=col>⋯</th><th scope=col>&lt;dbl&gt;</th><th scope=col>&lt;dbl&gt;</th><th scope=col>&lt;dbl&gt;</th><th scope=col>&lt;dbl&gt;</th><th scope=col>&lt;dbl&gt;</th><th scope=col>&lt;dbl&gt;</th><th scope=col>&lt;dbl&gt;</th><th scope=col>&lt;dbl&gt;</th><th scope=col>&lt;dbl&gt;</th><th scope=col>&lt;dbl&gt;</th></tr>\n",
       "</thead>\n",
       "<tbody>\n",
       "\t<tr><td>http://mashable.com/2013/01/07/amazon-instant-video-browser/  </td><td>731</td><td>12</td><td> 219</td><td>0.6635945</td><td>1</td><td>0.8153846</td><td> 4</td><td> 2</td><td> 1</td><td>⋯</td><td>0.10000000</td><td>0.7</td><td>-0.3500000</td><td>-0.600</td><td>-0.2000000</td><td>0.5000000</td><td>-0.1875000</td><td>0.00000000</td><td>0.1875000</td><td> 593</td></tr>\n",
       "\t<tr><td>http://mashable.com/2013/01/07/ap-samsung-sponsored-tweets/   </td><td>731</td><td> 9</td><td> 255</td><td>0.6047431</td><td>1</td><td>0.7919463</td><td> 3</td><td> 1</td><td> 1</td><td>⋯</td><td>0.03333333</td><td>0.7</td><td>-0.1187500</td><td>-0.125</td><td>-0.1000000</td><td>0.0000000</td><td> 0.0000000</td><td>0.50000000</td><td>0.0000000</td><td> 711</td></tr>\n",
       "\t<tr><td>http://mashable.com/2013/01/07/apple-40-billion-app-downloads/</td><td>731</td><td> 9</td><td> 211</td><td>0.5751295</td><td>1</td><td>0.6638655</td><td> 3</td><td> 1</td><td> 1</td><td>⋯</td><td>0.10000000</td><td>1.0</td><td>-0.4666667</td><td>-0.800</td><td>-0.1333333</td><td>0.0000000</td><td> 0.0000000</td><td>0.50000000</td><td>0.0000000</td><td>1500</td></tr>\n",
       "\t<tr><td>http://mashable.com/2013/01/07/astronaut-notre-dame-bcs/      </td><td>731</td><td> 9</td><td> 531</td><td>0.5037879</td><td>1</td><td>0.6656347</td><td> 9</td><td> 0</td><td> 1</td><td>⋯</td><td>0.13636364</td><td>0.8</td><td>-0.3696970</td><td>-0.600</td><td>-0.1666667</td><td>0.0000000</td><td> 0.0000000</td><td>0.50000000</td><td>0.0000000</td><td>1200</td></tr>\n",
       "\t<tr><td>http://mashable.com/2013/01/07/att-u-verse-apps/              </td><td>731</td><td>13</td><td>1072</td><td>0.4156456</td><td>1</td><td>0.5408895</td><td>19</td><td>19</td><td>20</td><td>⋯</td><td>0.03333333</td><td>1.0</td><td>-0.2201923</td><td>-0.500</td><td>-0.0500000</td><td>0.4545455</td><td> 0.1363636</td><td>0.04545455</td><td>0.1363636</td><td> 505</td></tr>\n",
       "\t<tr><td>http://mashable.com/2013/01/07/beewi-smart-toys/              </td><td>731</td><td>10</td><td> 370</td><td>0.5598886</td><td>1</td><td>0.6981982</td><td> 2</td><td> 2</td><td> 0</td><td>⋯</td><td>0.13636364</td><td>0.6</td><td>-0.1950000</td><td>-0.400</td><td>-0.1000000</td><td>0.6428571</td><td> 0.2142857</td><td>0.14285714</td><td>0.2142857</td><td> 855</td></tr>\n",
       "</tbody>\n",
       "</table>\n"
      ],
      "text/latex": [
       "A tibble: 6 × 61\n",
       "\\begin{tabular}{lllllllllllllllllllll}\n",
       " url & timedelta & n\\_tokens\\_title & n\\_tokens\\_content & n\\_unique\\_tokens & n\\_non\\_stop\\_words & n\\_non\\_stop\\_unique\\_tokens & num\\_hrefs & num\\_self\\_hrefs & num\\_imgs & ⋯ & min\\_positive\\_polarity & max\\_positive\\_polarity & avg\\_negative\\_polarity & min\\_negative\\_polarity & max\\_negative\\_polarity & title\\_subjectivity & title\\_sentiment\\_polarity & abs\\_title\\_subjectivity & abs\\_title\\_sentiment\\_polarity & shares\\\\\n",
       " <chr> & <dbl> & <dbl> & <dbl> & <dbl> & <dbl> & <dbl> & <dbl> & <dbl> & <dbl> & ⋯ & <dbl> & <dbl> & <dbl> & <dbl> & <dbl> & <dbl> & <dbl> & <dbl> & <dbl> & <dbl>\\\\\n",
       "\\hline\n",
       "\t http://mashable.com/2013/01/07/amazon-instant-video-browser/   & 731 & 12 &  219 & 0.6635945 & 1 & 0.8153846 &  4 &  2 &  1 & ⋯ & 0.10000000 & 0.7 & -0.3500000 & -0.600 & -0.2000000 & 0.5000000 & -0.1875000 & 0.00000000 & 0.1875000 &  593\\\\\n",
       "\t http://mashable.com/2013/01/07/ap-samsung-sponsored-tweets/    & 731 &  9 &  255 & 0.6047431 & 1 & 0.7919463 &  3 &  1 &  1 & ⋯ & 0.03333333 & 0.7 & -0.1187500 & -0.125 & -0.1000000 & 0.0000000 &  0.0000000 & 0.50000000 & 0.0000000 &  711\\\\\n",
       "\t http://mashable.com/2013/01/07/apple-40-billion-app-downloads/ & 731 &  9 &  211 & 0.5751295 & 1 & 0.6638655 &  3 &  1 &  1 & ⋯ & 0.10000000 & 1.0 & -0.4666667 & -0.800 & -0.1333333 & 0.0000000 &  0.0000000 & 0.50000000 & 0.0000000 & 1500\\\\\n",
       "\t http://mashable.com/2013/01/07/astronaut-notre-dame-bcs/       & 731 &  9 &  531 & 0.5037879 & 1 & 0.6656347 &  9 &  0 &  1 & ⋯ & 0.13636364 & 0.8 & -0.3696970 & -0.600 & -0.1666667 & 0.0000000 &  0.0000000 & 0.50000000 & 0.0000000 & 1200\\\\\n",
       "\t http://mashable.com/2013/01/07/att-u-verse-apps/               & 731 & 13 & 1072 & 0.4156456 & 1 & 0.5408895 & 19 & 19 & 20 & ⋯ & 0.03333333 & 1.0 & -0.2201923 & -0.500 & -0.0500000 & 0.4545455 &  0.1363636 & 0.04545455 & 0.1363636 &  505\\\\\n",
       "\t http://mashable.com/2013/01/07/beewi-smart-toys/               & 731 & 10 &  370 & 0.5598886 & 1 & 0.6981982 &  2 &  2 &  0 & ⋯ & 0.13636364 & 0.6 & -0.1950000 & -0.400 & -0.1000000 & 0.6428571 &  0.2142857 & 0.14285714 & 0.2142857 &  855\\\\\n",
       "\\end{tabular}\n"
      ],
      "text/markdown": [
       "\n",
       "A tibble: 6 × 61\n",
       "\n",
       "| url &lt;chr&gt; | timedelta &lt;dbl&gt; | n_tokens_title &lt;dbl&gt; | n_tokens_content &lt;dbl&gt; | n_unique_tokens &lt;dbl&gt; | n_non_stop_words &lt;dbl&gt; | n_non_stop_unique_tokens &lt;dbl&gt; | num_hrefs &lt;dbl&gt; | num_self_hrefs &lt;dbl&gt; | num_imgs &lt;dbl&gt; | ⋯ ⋯ | min_positive_polarity &lt;dbl&gt; | max_positive_polarity &lt;dbl&gt; | avg_negative_polarity &lt;dbl&gt; | min_negative_polarity &lt;dbl&gt; | max_negative_polarity &lt;dbl&gt; | title_subjectivity &lt;dbl&gt; | title_sentiment_polarity &lt;dbl&gt; | abs_title_subjectivity &lt;dbl&gt; | abs_title_sentiment_polarity &lt;dbl&gt; | shares &lt;dbl&gt; |\n",
       "|---|---|---|---|---|---|---|---|---|---|---|---|---|---|---|---|---|---|---|---|---|\n",
       "| http://mashable.com/2013/01/07/amazon-instant-video-browser/   | 731 | 12 |  219 | 0.6635945 | 1 | 0.8153846 |  4 |  2 |  1 | ⋯ | 0.10000000 | 0.7 | -0.3500000 | -0.600 | -0.2000000 | 0.5000000 | -0.1875000 | 0.00000000 | 0.1875000 |  593 |\n",
       "| http://mashable.com/2013/01/07/ap-samsung-sponsored-tweets/    | 731 |  9 |  255 | 0.6047431 | 1 | 0.7919463 |  3 |  1 |  1 | ⋯ | 0.03333333 | 0.7 | -0.1187500 | -0.125 | -0.1000000 | 0.0000000 |  0.0000000 | 0.50000000 | 0.0000000 |  711 |\n",
       "| http://mashable.com/2013/01/07/apple-40-billion-app-downloads/ | 731 |  9 |  211 | 0.5751295 | 1 | 0.6638655 |  3 |  1 |  1 | ⋯ | 0.10000000 | 1.0 | -0.4666667 | -0.800 | -0.1333333 | 0.0000000 |  0.0000000 | 0.50000000 | 0.0000000 | 1500 |\n",
       "| http://mashable.com/2013/01/07/astronaut-notre-dame-bcs/       | 731 |  9 |  531 | 0.5037879 | 1 | 0.6656347 |  9 |  0 |  1 | ⋯ | 0.13636364 | 0.8 | -0.3696970 | -0.600 | -0.1666667 | 0.0000000 |  0.0000000 | 0.50000000 | 0.0000000 | 1200 |\n",
       "| http://mashable.com/2013/01/07/att-u-verse-apps/               | 731 | 13 | 1072 | 0.4156456 | 1 | 0.5408895 | 19 | 19 | 20 | ⋯ | 0.03333333 | 1.0 | -0.2201923 | -0.500 | -0.0500000 | 0.4545455 |  0.1363636 | 0.04545455 | 0.1363636 |  505 |\n",
       "| http://mashable.com/2013/01/07/beewi-smart-toys/               | 731 | 10 |  370 | 0.5598886 | 1 | 0.6981982 |  2 |  2 |  0 | ⋯ | 0.13636364 | 0.6 | -0.1950000 | -0.400 | -0.1000000 | 0.6428571 |  0.2142857 | 0.14285714 | 0.2142857 |  855 |\n",
       "\n"
      ],
      "text/plain": [
       "  url                                                            timedelta\n",
       "1 http://mashable.com/2013/01/07/amazon-instant-video-browser/   731      \n",
       "2 http://mashable.com/2013/01/07/ap-samsung-sponsored-tweets/    731      \n",
       "3 http://mashable.com/2013/01/07/apple-40-billion-app-downloads/ 731      \n",
       "4 http://mashable.com/2013/01/07/astronaut-notre-dame-bcs/       731      \n",
       "5 http://mashable.com/2013/01/07/att-u-verse-apps/               731      \n",
       "6 http://mashable.com/2013/01/07/beewi-smart-toys/               731      \n",
       "  n_tokens_title n_tokens_content n_unique_tokens n_non_stop_words\n",
       "1 12              219             0.6635945       1               \n",
       "2  9              255             0.6047431       1               \n",
       "3  9              211             0.5751295       1               \n",
       "4  9              531             0.5037879       1               \n",
       "5 13             1072             0.4156456       1               \n",
       "6 10              370             0.5598886       1               \n",
       "  n_non_stop_unique_tokens num_hrefs num_self_hrefs num_imgs ⋯\n",
       "1 0.8153846                 4         2              1       ⋯\n",
       "2 0.7919463                 3         1              1       ⋯\n",
       "3 0.6638655                 3         1              1       ⋯\n",
       "4 0.6656347                 9         0              1       ⋯\n",
       "5 0.5408895                19        19             20       ⋯\n",
       "6 0.6981982                 2         2              0       ⋯\n",
       "  min_positive_polarity max_positive_polarity avg_negative_polarity\n",
       "1 0.10000000            0.7                   -0.3500000           \n",
       "2 0.03333333            0.7                   -0.1187500           \n",
       "3 0.10000000            1.0                   -0.4666667           \n",
       "4 0.13636364            0.8                   -0.3696970           \n",
       "5 0.03333333            1.0                   -0.2201923           \n",
       "6 0.13636364            0.6                   -0.1950000           \n",
       "  min_negative_polarity max_negative_polarity title_subjectivity\n",
       "1 -0.600                -0.2000000            0.5000000         \n",
       "2 -0.125                -0.1000000            0.0000000         \n",
       "3 -0.800                -0.1333333            0.0000000         \n",
       "4 -0.600                -0.1666667            0.0000000         \n",
       "5 -0.500                -0.0500000            0.4545455         \n",
       "6 -0.400                -0.1000000            0.6428571         \n",
       "  title_sentiment_polarity abs_title_subjectivity abs_title_sentiment_polarity\n",
       "1 -0.1875000               0.00000000             0.1875000                   \n",
       "2  0.0000000               0.50000000             0.0000000                   \n",
       "3  0.0000000               0.50000000             0.0000000                   \n",
       "4  0.0000000               0.50000000             0.0000000                   \n",
       "5  0.1363636               0.04545455             0.1363636                   \n",
       "6  0.2142857               0.14285714             0.2142857                   \n",
       "  shares\n",
       "1  593  \n",
       "2  711  \n",
       "3 1500  \n",
       "4 1200  \n",
       "5  505  \n",
       "6  855  "
      ]
     },
     "metadata": {},
     "output_type": "display_data"
    }
   ],
   "source": [
    "url <- \"https://raw.githubusercontent.com/EPICxFLIPPER/data/main/OnlineNewsPopularity.csv\"\n",
    "popularity <- read_csv(url)\n",
    "head(popularity)"
   ]
  },
  {
   "cell_type": "code",
   "execution_count": 3,
   "id": "2b1b1f86-696d-4de1-b067-9c6ddaad1f97",
   "metadata": {},
   "outputs": [
    {
     "name": "stdout",
     "output_type": "stream",
     "text": [
      "Rows: 39,644\n",
      "Columns: 2\n",
      "$ shares           \u001b[3m\u001b[90m<dbl>\u001b[39m\u001b[23m 593, 711, 1500, 1200, 505, 855, 556, 891, 3600, 710, …\n",
      "$ n_tokens_content \u001b[3m\u001b[90m<dbl>\u001b[39m\u001b[23m 219, 255, 211, 531, 1072, 370, 960, 989, 97, 231, 124…\n"
     ]
    }
   ],
   "source": [
    "set.seed(9)\n",
    "#Wrangling\n",
    "popularity_tidy <- popularity |> \n",
    "#removing columns that are specifically not litsted as predictors as well as columns that self reference articles.\n",
    "select(shares,n_tokens_content) |>\n",
    "drop_na(n_tokens_content, shares)\n",
    "\n",
    "\n",
    "\n",
    "glimpse(popularity_tidy)"
   ]
  },
  {
   "cell_type": "code",
   "execution_count": 10,
   "id": "0deeaf53-a4d6-442f-9f9d-139319b3f621",
   "metadata": {},
   "outputs": [],
   "source": [
    "set.seed(9)\n",
    "popularity_sample <- sample_n(popularity_tidy, 3000)"
   ]
  },
  {
   "cell_type": "code",
   "execution_count": 11,
   "id": "1a9a2f78-c828-4b16-b762-a21c5a6cf362",
   "metadata": {},
   "outputs": [],
   "source": [
    "set.seed(9)\n",
    "#Splitting the data into training and testing data\n",
    "#Strata = the day the article was published\n",
    "popularity_split<- initial_split(popularity_sample, prop = .70, strata = shares)\n",
    "popularity_train<- training(popularity_split)\n",
    "popularity_test <- testing(popularity_split)\n"
   ]
  },
  {
   "cell_type": "code",
   "execution_count": 12,
   "id": "6f95d81d-0c24-483d-bd59-9d900605c84e",
   "metadata": {},
   "outputs": [
    {
     "data": {
      "text/html": [
       "<table class=\"dataframe\">\n",
       "<caption>A tibble: 1 × 2</caption>\n",
       "<thead>\n",
       "\t<tr><th scope=col>shares</th><th scope=col>n_tokens_content</th></tr>\n",
       "\t<tr><th scope=col>&lt;dbl&gt;</th><th scope=col>&lt;dbl&gt;</th></tr>\n",
       "</thead>\n",
       "<tbody>\n",
       "\t<tr><td>3485.509</td><td>533.9342</td></tr>\n",
       "</tbody>\n",
       "</table>\n"
      ],
      "text/latex": [
       "A tibble: 1 × 2\n",
       "\\begin{tabular}{ll}\n",
       " shares & n\\_tokens\\_content\\\\\n",
       " <dbl> & <dbl>\\\\\n",
       "\\hline\n",
       "\t 3485.509 & 533.9342\\\\\n",
       "\\end{tabular}\n"
      ],
      "text/markdown": [
       "\n",
       "A tibble: 1 × 2\n",
       "\n",
       "| shares &lt;dbl&gt; | n_tokens_content &lt;dbl&gt; |\n",
       "|---|---|\n",
       "| 3485.509 | 533.9342 |\n",
       "\n"
      ],
      "text/plain": [
       "  shares   n_tokens_content\n",
       "1 3485.509 533.9342        "
      ]
     },
     "metadata": {},
     "output_type": "display_data"
    },
    {
     "data": {
      "text/plain": [
       "     shares         n_tokens_content\n",
       " Min.   :    47.0   Min.   :   0.0  \n",
       " 1st Qu.:   948.2   1st Qu.: 247.2  \n",
       " Median :  1450.0   Median : 400.0  \n",
       " Mean   :  3485.5   Mean   : 533.9  \n",
       " 3rd Qu.:  2900.0   3rd Qu.: 699.8  \n",
       " Max.   :310800.0   Max.   :4894.0  "
      ]
     },
     "metadata": {},
     "output_type": "display_data"
    }
   ],
   "source": [
    "set.seed(9)\n",
    "initial_table <- popularity_train |>\n",
    "map_df(mean, na.rm =TRUE)\n",
    "initial_table\n",
    "\n",
    "summary <- summary(popularity_train)\n",
    "summary"
   ]
  },
  {
   "cell_type": "code",
   "execution_count": 13,
   "id": "5a6cb8ec-acc2-4e5d-a743-b75129722ca3",
   "metadata": {},
   "outputs": [
    {
     "name": "stderr",
     "output_type": "stream",
     "text": [
      "Warning message:\n",
      "“Removed 23 rows containing non-finite values (stat_bin).”\n",
      "Warning message:\n",
      "“Removed 2 rows containing missing values (geom_bar).”\n",
      "Warning message:\n",
      "“Removed 2 rows containing missing values (geom_bar).”\n"
     ]
    },
    {
     "data": {
      "image/png": "[encoded data removed]",
      "text/plain": [
       "plot without title"
      ]
     },
     "metadata": {
      "image/png": {
       "height": 300,
       "width": 600
      }
     },
     "output_type": "display_data"
    },
    {
     "data": {
      "image/png": "[encoded data removed]",
      "text/plain": [
       "plot without title"
      ]
     },
     "metadata": {
      "image/png": {
       "height": 300,
       "width": 600
      }
     },
     "output_type": "display_data"
    },
    {
     "data": {
      "image/png": "[encoded data removed]",
      "text/plain": [
       "plot without title"
      ]
     },
     "metadata": {
      "image/png": {
       "height": 300,
       "width": 600
      }
     },
     "output_type": "display_data"
    }
   ],
   "source": [
    "set.seed(9)\n",
    "#Below are the distributions of the 3 most varable categoreis in our data set. Though some of the categories are less variable, we belive \n",
    "#they will still be good predictors of shares.\n",
    "\n",
    "options(repr.plot.width = 10, repr.plot.height =5)\n",
    "\n",
    "shares_plot <- popularity_train |> \n",
    "ggplot(aes(x = shares)) + geom_histogram(binwidth = 100)+xlim(0,30000) +labs(x = \"Shares\" , y = \"Frequency\") +\n",
    "ggtitle(\"Distribuion of Shares\") + theme(text = element_text(size = 20))\n",
    "\n",
    "words_plot <- popularity_train |> \n",
    "ggplot(aes(x = n_tokens_content)) + geom_histogram(binwidth = 100)+xlim(0,15000) +labs(x = \"Word Count\" , y = \"Frequency\") +\n",
    "ggtitle(\"Distribuion of Word Count\") + theme(text = element_text(size = 20))\n",
    "\n",
    "\n",
    "shares_vs_word_count_plot <- popularity_train |>\n",
    "ggplot(aes(x = n_tokens_content , y = shares)) + geom_point() + xlab(\"Word Count\") + ylab(\"Shares\") + ggtitle(\"Shares vs Word Count\") +\n",
    "theme(text = element_text(size = 20))\n",
    "\n",
    "shares_plot\n",
    "words_plot\n",
    "shares_vs_word_count_plot\n"
   ]
  },
  {
   "cell_type": "code",
   "execution_count": 18,
   "id": "f6db4185-78ea-4a10-8efa-4e7ee6f41964",
   "metadata": {},
   "outputs": [
    {
     "data": {
      "text/html": [
       "25"
      ],
      "text/latex": [
       "25"
      ],
      "text/markdown": [
       "25"
      ],
      "text/plain": [
       "[1] 25"
      ]
     },
     "metadata": {},
     "output_type": "display_data"
    }
   ],
   "source": [
    "#I will be loacting the best neighbors to use\n",
    "set.seed(9)\n",
    "popularity_spec <- nearest_neighbor(weight_func = \"rectangular\" , neighbors = tune()) |> \n",
    "set_engine(\"kknn\") |> \n",
    "set_mode(\"regression\")\n",
    "\n",
    "popularity_recipe <- recipe(shares~n_tokens_content, data = popularity_train) |> \n",
    "step_scale(all_predictors()) |> \n",
    "step_center(all_predictors())\n",
    "\n",
    "gridvals <- tibble(neighbors = seq(from = 1, to = 25, by = 2))\n",
    "popularity_vfold <- vfold_cv(data = popularity_train, v = 5, strata = shares)\n",
    "\n",
    "popularity_fit <- workflow() |>\n",
    "add_recipe(popularity_recipe) |>\n",
    "add_model(popularity_spec) |>\n",
    "tune_grid(resamples = popularity_vfold, grid = gridvals) |>\n",
    "collect_metrics() |>\n",
    "filter(.metric == \"rmse\") |>\n",
    "arrange(mean) |>\n",
    "select(neighbors) |>\n",
    "slice(1) |>\n",
    "pull()\n",
    "\n",
    "\n",
    "\n",
    "popularity_fit\n",
    "                   \n"
   ]
  },
  {
   "cell_type": "code",
   "execution_count": 19,
   "id": "ba81e469-6bdd-4514-bbe5-fb56d4540c1e",
   "metadata": {},
   "outputs": [
    {
     "name": "stderr",
     "output_type": "stream",
     "text": [
      "Warning message:\n",
      "“tune samples were requested but there were 2098 rows in the data. 2093 will be used.”\n"
     ]
    },
    {
     "data": {
      "text/html": [
       "<table class=\"dataframe\">\n",
       "<caption>A tibble: 902 × 3</caption>\n",
       "<thead>\n",
       "\t<tr><th scope=col>.pred</th><th scope=col>shares</th><th scope=col>n_tokens_content</th></tr>\n",
       "\t<tr><th scope=col>&lt;dbl&gt;</th><th scope=col>&lt;dbl&gt;</th><th scope=col>&lt;dbl&gt;</th></tr>\n",
       "</thead>\n",
       "<tbody>\n",
       "\t<tr><td>3486.191</td><td>25900</td><td> 266</td></tr>\n",
       "\t<tr><td>3486.191</td><td>  969</td><td>  85</td></tr>\n",
       "\t<tr><td>3486.191</td><td> 2100</td><td> 543</td></tr>\n",
       "\t<tr><td>3486.191</td><td> 1200</td><td> 739</td></tr>\n",
       "\t<tr><td>3486.191</td><td>  934</td><td> 180</td></tr>\n",
       "\t<tr><td>3486.191</td><td>  937</td><td> 806</td></tr>\n",
       "\t<tr><td>3486.191</td><td> 2800</td><td> 861</td></tr>\n",
       "\t<tr><td>3486.191</td><td>  776</td><td>1679</td></tr>\n",
       "\t<tr><td>3486.191</td><td>  577</td><td> 242</td></tr>\n",
       "\t<tr><td>3486.191</td><td> 2400</td><td> 311</td></tr>\n",
       "\t<tr><td>3486.191</td><td>10100</td><td>1668</td></tr>\n",
       "\t<tr><td>3486.191</td><td> 1700</td><td> 230</td></tr>\n",
       "\t<tr><td>3486.191</td><td> 1400</td><td> 354</td></tr>\n",
       "\t<tr><td>3486.191</td><td> 4500</td><td> 941</td></tr>\n",
       "\t<tr><td>3486.191</td><td> 1400</td><td> 638</td></tr>\n",
       "\t<tr><td>3486.191</td><td> 2900</td><td> 429</td></tr>\n",
       "\t<tr><td>3486.191</td><td> 1100</td><td> 203</td></tr>\n",
       "\t<tr><td>3486.191</td><td>  738</td><td>1072</td></tr>\n",
       "\t<tr><td>3486.191</td><td> 1100</td><td> 204</td></tr>\n",
       "\t<tr><td>3486.191</td><td>31500</td><td> 238</td></tr>\n",
       "\t<tr><td>3486.191</td><td>19300</td><td>1110</td></tr>\n",
       "\t<tr><td>3486.191</td><td> 1100</td><td> 720</td></tr>\n",
       "\t<tr><td>3486.191</td><td> 1000</td><td> 664</td></tr>\n",
       "\t<tr><td>3486.191</td><td> 1800</td><td> 578</td></tr>\n",
       "\t<tr><td>3486.191</td><td> 3100</td><td> 429</td></tr>\n",
       "\t<tr><td>3430.540</td><td> 1900</td><td>2031</td></tr>\n",
       "\t<tr><td>3486.191</td><td> 3300</td><td> 697</td></tr>\n",
       "\t<tr><td>3486.191</td><td>  732</td><td> 260</td></tr>\n",
       "\t<tr><td>3486.191</td><td> 1100</td><td> 720</td></tr>\n",
       "\t<tr><td>3486.191</td><td> 2000</td><td> 551</td></tr>\n",
       "\t<tr><td>⋮</td><td>⋮</td><td>⋮</td></tr>\n",
       "\t<tr><td>3486.191</td><td> 5300</td><td> 172</td></tr>\n",
       "\t<tr><td>3486.191</td><td> 2000</td><td>1046</td></tr>\n",
       "\t<tr><td>3431.472</td><td>  721</td><td>3083</td></tr>\n",
       "\t<tr><td>3486.191</td><td> 1100</td><td> 613</td></tr>\n",
       "\t<tr><td>3486.191</td><td>  907</td><td> 213</td></tr>\n",
       "\t<tr><td>3486.191</td><td> 1300</td><td> 307</td></tr>\n",
       "\t<tr><td>3486.191</td><td> 1600</td><td> 900</td></tr>\n",
       "\t<tr><td>3486.191</td><td> 8100</td><td> 182</td></tr>\n",
       "\t<tr><td>3486.191</td><td> 1300</td><td> 568</td></tr>\n",
       "\t<tr><td>3486.191</td><td> 1700</td><td> 276</td></tr>\n",
       "\t<tr><td>3486.191</td><td>  982</td><td> 132</td></tr>\n",
       "\t<tr><td>3486.191</td><td> 9100</td><td>1684</td></tr>\n",
       "\t<tr><td>3486.191</td><td> 3000</td><td> 284</td></tr>\n",
       "\t<tr><td>3486.191</td><td>12400</td><td> 239</td></tr>\n",
       "\t<tr><td>3486.191</td><td>10700</td><td> 218</td></tr>\n",
       "\t<tr><td>3486.191</td><td> 1300</td><td>   0</td></tr>\n",
       "\t<tr><td>3486.191</td><td> 1200</td><td> 242</td></tr>\n",
       "\t<tr><td>3486.191</td><td> 1200</td><td> 498</td></tr>\n",
       "\t<tr><td>3486.191</td><td> 2500</td><td> 486</td></tr>\n",
       "\t<tr><td>3486.191</td><td> 1000</td><td> 222</td></tr>\n",
       "\t<tr><td>3486.191</td><td> 2000</td><td> 156</td></tr>\n",
       "\t<tr><td>3486.191</td><td> 3300</td><td>1468</td></tr>\n",
       "\t<tr><td>3486.191</td><td> 2100</td><td> 106</td></tr>\n",
       "\t<tr><td>3486.191</td><td> 1500</td><td> 717</td></tr>\n",
       "\t<tr><td>3486.191</td><td>  787</td><td> 101</td></tr>\n",
       "\t<tr><td>3486.191</td><td>  885</td><td> 439</td></tr>\n",
       "\t<tr><td>3486.191</td><td> 6300</td><td>1022</td></tr>\n",
       "\t<tr><td>3486.191</td><td>  995</td><td> 174</td></tr>\n",
       "\t<tr><td>3486.191</td><td> 2000</td><td> 524</td></tr>\n",
       "\t<tr><td>3486.191</td><td> 1100</td><td> 648</td></tr>\n",
       "</tbody>\n",
       "</table>\n"
      ],
      "text/latex": [
       "A tibble: 902 × 3\n",
       "\\begin{tabular}{lll}\n",
       " .pred & shares & n\\_tokens\\_content\\\\\n",
       " <dbl> & <dbl> & <dbl>\\\\\n",
       "\\hline\n",
       "\t 3486.191 & 25900 &  266\\\\\n",
       "\t 3486.191 &   969 &   85\\\\\n",
       "\t 3486.191 &  2100 &  543\\\\\n",
       "\t 3486.191 &  1200 &  739\\\\\n",
       "\t 3486.191 &   934 &  180\\\\\n",
       "\t 3486.191 &   937 &  806\\\\\n",
       "\t 3486.191 &  2800 &  861\\\\\n",
       "\t 3486.191 &   776 & 1679\\\\\n",
       "\t 3486.191 &   577 &  242\\\\\n",
       "\t 3486.191 &  2400 &  311\\\\\n",
       "\t 3486.191 & 10100 & 1668\\\\\n",
       "\t 3486.191 &  1700 &  230\\\\\n",
       "\t 3486.191 &  1400 &  354\\\\\n",
       "\t 3486.191 &  4500 &  941\\\\\n",
       "\t 3486.191 &  1400 &  638\\\\\n",
       "\t 3486.191 &  2900 &  429\\\\\n",
       "\t 3486.191 &  1100 &  203\\\\\n",
       "\t 3486.191 &   738 & 1072\\\\\n",
       "\t 3486.191 &  1100 &  204\\\\\n",
       "\t 3486.191 & 31500 &  238\\\\\n",
       "\t 3486.191 & 19300 & 1110\\\\\n",
       "\t 3486.191 &  1100 &  720\\\\\n",
       "\t 3486.191 &  1000 &  664\\\\\n",
       "\t 3486.191 &  1800 &  578\\\\\n",
       "\t 3486.191 &  3100 &  429\\\\\n",
       "\t 3430.540 &  1900 & 2031\\\\\n",
       "\t 3486.191 &  3300 &  697\\\\\n",
       "\t 3486.191 &   732 &  260\\\\\n",
       "\t 3486.191 &  1100 &  720\\\\\n",
       "\t 3486.191 &  2000 &  551\\\\\n",
       "\t ⋮ & ⋮ & ⋮\\\\\n",
       "\t 3486.191 &  5300 &  172\\\\\n",
       "\t 3486.191 &  2000 & 1046\\\\\n",
       "\t 3431.472 &   721 & 3083\\\\\n",
       "\t 3486.191 &  1100 &  613\\\\\n",
       "\t 3486.191 &   907 &  213\\\\\n",
       "\t 3486.191 &  1300 &  307\\\\\n",
       "\t 3486.191 &  1600 &  900\\\\\n",
       "\t 3486.191 &  8100 &  182\\\\\n",
       "\t 3486.191 &  1300 &  568\\\\\n",
       "\t 3486.191 &  1700 &  276\\\\\n",
       "\t 3486.191 &   982 &  132\\\\\n",
       "\t 3486.191 &  9100 & 1684\\\\\n",
       "\t 3486.191 &  3000 &  284\\\\\n",
       "\t 3486.191 & 12400 &  239\\\\\n",
       "\t 3486.191 & 10700 &  218\\\\\n",
       "\t 3486.191 &  1300 &    0\\\\\n",
       "\t 3486.191 &  1200 &  242\\\\\n",
       "\t 3486.191 &  1200 &  498\\\\\n",
       "\t 3486.191 &  2500 &  486\\\\\n",
       "\t 3486.191 &  1000 &  222\\\\\n",
       "\t 3486.191 &  2000 &  156\\\\\n",
       "\t 3486.191 &  3300 & 1468\\\\\n",
       "\t 3486.191 &  2100 &  106\\\\\n",
       "\t 3486.191 &  1500 &  717\\\\\n",
       "\t 3486.191 &   787 &  101\\\\\n",
       "\t 3486.191 &   885 &  439\\\\\n",
       "\t 3486.191 &  6300 & 1022\\\\\n",
       "\t 3486.191 &   995 &  174\\\\\n",
       "\t 3486.191 &  2000 &  524\\\\\n",
       "\t 3486.191 &  1100 &  648\\\\\n",
       "\\end{tabular}\n"
      ],
      "text/markdown": [
       "\n",
       "A tibble: 902 × 3\n",
       "\n",
       "| .pred &lt;dbl&gt; | shares &lt;dbl&gt; | n_tokens_content &lt;dbl&gt; |\n",
       "|---|---|---|\n",
       "| 3486.191 | 25900 |  266 |\n",
       "| 3486.191 |   969 |   85 |\n",
       "| 3486.191 |  2100 |  543 |\n",
       "| 3486.191 |  1200 |  739 |\n",
       "| 3486.191 |   934 |  180 |\n",
       "| 3486.191 |   937 |  806 |\n",
       "| 3486.191 |  2800 |  861 |\n",
       "| 3486.191 |   776 | 1679 |\n",
       "| 3486.191 |   577 |  242 |\n",
       "| 3486.191 |  2400 |  311 |\n",
       "| 3486.191 | 10100 | 1668 |\n",
       "| 3486.191 |  1700 |  230 |\n",
       "| 3486.191 |  1400 |  354 |\n",
       "| 3486.191 |  4500 |  941 |\n",
       "| 3486.191 |  1400 |  638 |\n",
       "| 3486.191 |  2900 |  429 |\n",
       "| 3486.191 |  1100 |  203 |\n",
       "| 3486.191 |   738 | 1072 |\n",
       "| 3486.191 |  1100 |  204 |\n",
       "| 3486.191 | 31500 |  238 |\n",
       "| 3486.191 | 19300 | 1110 |\n",
       "| 3486.191 |  1100 |  720 |\n",
       "| 3486.191 |  1000 |  664 |\n",
       "| 3486.191 |  1800 |  578 |\n",
       "| 3486.191 |  3100 |  429 |\n",
       "| 3430.540 |  1900 | 2031 |\n",
       "| 3486.191 |  3300 |  697 |\n",
       "| 3486.191 |   732 |  260 |\n",
       "| 3486.191 |  1100 |  720 |\n",
       "| 3486.191 |  2000 |  551 |\n",
       "| ⋮ | ⋮ | ⋮ |\n",
       "| 3486.191 |  5300 |  172 |\n",
       "| 3486.191 |  2000 | 1046 |\n",
       "| 3431.472 |   721 | 3083 |\n",
       "| 3486.191 |  1100 |  613 |\n",
       "| 3486.191 |   907 |  213 |\n",
       "| 3486.191 |  1300 |  307 |\n",
       "| 3486.191 |  1600 |  900 |\n",
       "| 3486.191 |  8100 |  182 |\n",
       "| 3486.191 |  1300 |  568 |\n",
       "| 3486.191 |  1700 |  276 |\n",
       "| 3486.191 |   982 |  132 |\n",
       "| 3486.191 |  9100 | 1684 |\n",
       "| 3486.191 |  3000 |  284 |\n",
       "| 3486.191 | 12400 |  239 |\n",
       "| 3486.191 | 10700 |  218 |\n",
       "| 3486.191 |  1300 |    0 |\n",
       "| 3486.191 |  1200 |  242 |\n",
       "| 3486.191 |  1200 |  498 |\n",
       "| 3486.191 |  2500 |  486 |\n",
       "| 3486.191 |  1000 |  222 |\n",
       "| 3486.191 |  2000 |  156 |\n",
       "| 3486.191 |  3300 | 1468 |\n",
       "| 3486.191 |  2100 |  106 |\n",
       "| 3486.191 |  1500 |  717 |\n",
       "| 3486.191 |   787 |  101 |\n",
       "| 3486.191 |   885 |  439 |\n",
       "| 3486.191 |  6300 | 1022 |\n",
       "| 3486.191 |   995 |  174 |\n",
       "| 3486.191 |  2000 |  524 |\n",
       "| 3486.191 |  1100 |  648 |\n",
       "\n"
      ],
      "text/plain": [
       "    .pred    shares n_tokens_content\n",
       "1   3486.191 25900   266            \n",
       "2   3486.191   969    85            \n",
       "3   3486.191  2100   543            \n",
       "4   3486.191  1200   739            \n",
       "5   3486.191   934   180            \n",
       "6   3486.191   937   806            \n",
       "7   3486.191  2800   861            \n",
       "8   3486.191   776  1679            \n",
       "9   3486.191   577   242            \n",
       "10  3486.191  2400   311            \n",
       "11  3486.191 10100  1668            \n",
       "12  3486.191  1700   230            \n",
       "13  3486.191  1400   354            \n",
       "14  3486.191  4500   941            \n",
       "15  3486.191  1400   638            \n",
       "16  3486.191  2900   429            \n",
       "17  3486.191  1100   203            \n",
       "18  3486.191   738  1072            \n",
       "19  3486.191  1100   204            \n",
       "20  3486.191 31500   238            \n",
       "21  3486.191 19300  1110            \n",
       "22  3486.191  1100   720            \n",
       "23  3486.191  1000   664            \n",
       "24  3486.191  1800   578            \n",
       "25  3486.191  3100   429            \n",
       "26  3430.540  1900  2031            \n",
       "27  3486.191  3300   697            \n",
       "28  3486.191   732   260            \n",
       "29  3486.191  1100   720            \n",
       "30  3486.191  2000   551            \n",
       "⋮   ⋮        ⋮      ⋮               \n",
       "873 3486.191  5300   172            \n",
       "874 3486.191  2000  1046            \n",
       "875 3431.472   721  3083            \n",
       "876 3486.191  1100   613            \n",
       "877 3486.191   907   213            \n",
       "878 3486.191  1300   307            \n",
       "879 3486.191  1600   900            \n",
       "880 3486.191  8100   182            \n",
       "881 3486.191  1300   568            \n",
       "882 3486.191  1700   276            \n",
       "883 3486.191   982   132            \n",
       "884 3486.191  9100  1684            \n",
       "885 3486.191  3000   284            \n",
       "886 3486.191 12400   239            \n",
       "887 3486.191 10700   218            \n",
       "888 3486.191  1300     0            \n",
       "889 3486.191  1200   242            \n",
       "890 3486.191  1200   498            \n",
       "891 3486.191  2500   486            \n",
       "892 3486.191  1000   222            \n",
       "893 3486.191  2000   156            \n",
       "894 3486.191  3300  1468            \n",
       "895 3486.191  2100   106            \n",
       "896 3486.191  1500   717            \n",
       "897 3486.191   787   101            \n",
       "898 3486.191   885   439            \n",
       "899 3486.191  6300  1022            \n",
       "900 3486.191   995   174            \n",
       "901 3486.191  2000   524            \n",
       "902 3486.191  1100   648            "
      ]
     },
     "metadata": {},
     "output_type": "display_data"
    }
   ],
   "source": [
    "set.seed(9)\n",
    "popularity_spec_2 <- nearest_neighbor(weight_func = \"rectangular\", neighbors = popularity_fit) |> \n",
    "set_engine(\"kknn\") |> \n",
    "set_mode(\"regression\")\n",
    "\n",
    "popularity_fit_2 <- workflow() |> \n",
    "add_recipe(popularity_recipe) |>\n",
    "add_model(popularity_spec) |>\n",
    "fit(data = popularity_train)\n",
    "\n",
    "popularity_predictions <- predict(popularity_fit_2, popularity_test) |> \n",
    "bind_cols(popularity_test)\n",
    "\n",
    "popularity_predictions"
   ]
  },
  {
   "cell_type": "code",
   "execution_count": null,
   "id": "0acbc05c-0307-4be0-850a-789328434214",
   "metadata": {},
   "outputs": [],
   "source": []
  }
 ],
 "metadata": {
  "kernelspec": {
   "display_name": "R",
   "language": "R",
   "name": "ir"
  },
  "language_info": {
   "codemirror_mode": "r",
   "file_extension": ".r",
   "mimetype": "text/x-r-source",
   "name": "R",
   "pygments_lexer": "r",
   "version": "4.1.3"
  }
 },
 "nbformat": 4,
 "nbformat_minor": 5
}
